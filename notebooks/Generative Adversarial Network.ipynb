{
 "cells": [
  {
   "cell_type": "code",
   "execution_count": 1,
   "metadata": {
    "ExecuteTime": {
     "end_time": "2020-06-19T14:36:27.739464Z",
     "start_time": "2020-06-19T14:36:27.722512Z"
    }
   },
   "outputs": [],
   "source": [
    "%reload_ext autoreload\n",
    "%autoreload 2"
   ]
  },
  {
   "cell_type": "code",
   "execution_count": 2,
   "metadata": {
    "ExecuteTime": {
     "end_time": "2020-06-19T14:36:27.882539Z",
     "start_time": "2020-06-19T14:36:27.869880Z"
    }
   },
   "outputs": [],
   "source": [
    "import context"
   ]
  },
  {
   "cell_type": "code",
   "execution_count": 3,
   "metadata": {
    "ExecuteTime": {
     "end_time": "2020-06-19T14:36:28.028225Z",
     "start_time": "2020-06-19T14:36:28.017073Z"
    }
   },
   "outputs": [],
   "source": [
    "from IPython.display import display"
   ]
  },
  {
   "cell_type": "code",
   "execution_count": 4,
   "metadata": {
    "ExecuteTime": {
     "end_time": "2020-06-19T14:36:28.981352Z",
     "start_time": "2020-06-19T14:36:28.148506Z"
    }
   },
   "outputs": [],
   "source": [
    "from sklearn.model_selection import RandomizedSearchCV\n",
    "from sklearn.pipeline import Pipeline\n",
    "from sklearn.preprocessing import FunctionTransformer"
   ]
  },
  {
   "cell_type": "code",
   "execution_count": 5,
   "metadata": {
    "ExecuteTime": {
     "end_time": "2020-06-19T14:36:28.998966Z",
     "start_time": "2020-06-19T14:36:28.983334Z"
    }
   },
   "outputs": [],
   "source": [
    "import os\n",
    "import pickle\n",
    "import numpy as np\n",
    "from datetime import datetime"
   ]
  },
  {
   "cell_type": "code",
   "execution_count": 6,
   "metadata": {
    "ExecuteTime": {
     "end_time": "2020-06-19T14:36:29.800658Z",
     "start_time": "2020-06-19T14:36:29.001226Z"
    }
   },
   "outputs": [],
   "source": [
    "from torchvision.datasets import MNIST\n",
    "from torchvision.transforms import ToTensor, ToPILImage, Lambda, Compose\n",
    "from torchvision.utils import make_grid\n",
    "from torchvision.transforms.functional import to_pil_image"
   ]
  },
  {
   "cell_type": "code",
   "execution_count": 7,
   "metadata": {
    "ExecuteTime": {
     "end_time": "2020-06-19T14:36:29.827179Z",
     "start_time": "2020-06-19T14:36:29.802864Z"
    }
   },
   "outputs": [],
   "source": [
    "from bestiary.criteria.autoencoder import AutoEncoderLoss"
   ]
  },
  {
   "cell_type": "code",
   "execution_count": 8,
   "metadata": {
    "ExecuteTime": {
     "end_time": "2020-06-19T14:36:29.995247Z",
     "start_time": "2020-06-19T14:36:29.828658Z"
    }
   },
   "outputs": [],
   "source": [
    "from bestiary.nets.wgan import WassersteinGenerativeAdversarialNet"
   ]
  },
  {
   "cell_type": "code",
   "execution_count": 9,
   "metadata": {
    "ExecuteTime": {
     "end_time": "2020-06-19T14:36:30.015309Z",
     "start_time": "2020-06-19T14:36:29.996766Z"
    }
   },
   "outputs": [],
   "source": [
    "from skorch import NeuralNetRegressor\n",
    "from skorch.callbacks import EarlyStopping, Checkpoint, ProgressBar, Callback\n",
    "from skorch.callbacks import TensorBoard, BatchScoring, EpochScoring, PassthroughScoring, LRScheduler"
   ]
  },
  {
   "cell_type": "code",
   "execution_count": 10,
   "metadata": {
    "ExecuteTime": {
     "end_time": "2020-06-19T14:36:30.288462Z",
     "start_time": "2020-06-19T14:36:30.016483Z"
    }
   },
   "outputs": [],
   "source": [
    "import matplotlib.pyplot as plt"
   ]
  },
  {
   "cell_type": "code",
   "execution_count": 11,
   "metadata": {
    "ExecuteTime": {
     "end_time": "2020-06-19T14:36:30.359227Z",
     "start_time": "2020-06-19T14:36:30.291686Z"
    }
   },
   "outputs": [],
   "source": [
    "import torch\n",
    "from torch import nn\n",
    "from torch.utils.data import DataLoader, Subset\n",
    "from tensorboardX import SummaryWriter"
   ]
  },
  {
   "cell_type": "code",
   "execution_count": 12,
   "metadata": {
    "ExecuteTime": {
     "end_time": "2020-06-19T14:36:30.380268Z",
     "start_time": "2020-06-19T14:36:30.361292Z"
    }
   },
   "outputs": [],
   "source": [
    "from torch.optim.lr_scheduler import ReduceLROnPlateau"
   ]
  },
  {
   "cell_type": "code",
   "execution_count": 13,
   "metadata": {
    "ExecuteTime": {
     "end_time": "2020-06-19T14:36:30.437649Z",
     "start_time": "2020-06-19T14:36:30.381628Z"
    }
   },
   "outputs": [],
   "source": [
    "from sklearn.datasets import fetch_openml"
   ]
  },
  {
   "cell_type": "code",
   "execution_count": 14,
   "metadata": {
    "ExecuteTime": {
     "end_time": "2020-06-19T14:36:30.616311Z",
     "start_time": "2020-06-19T14:36:30.438963Z"
    }
   },
   "outputs": [],
   "source": [
    "from skopt import BayesSearchCV"
   ]
  },
  {
   "cell_type": "code",
   "execution_count": 15,
   "metadata": {
    "ExecuteTime": {
     "end_time": "2020-06-19T14:36:30.638838Z",
     "start_time": "2020-06-19T14:36:30.618080Z"
    }
   },
   "outputs": [],
   "source": [
    "from scipy.stats import loguniform, randint"
   ]
  },
  {
   "cell_type": "code",
   "execution_count": 16,
   "metadata": {
    "ExecuteTime": {
     "end_time": "2020-06-19T14:36:30.662031Z",
     "start_time": "2020-06-19T14:36:30.640119Z"
    }
   },
   "outputs": [],
   "source": [
    "from bestiary.modules.measures.gan import Generator, Discriminator"
   ]
  },
  {
   "cell_type": "markdown",
   "metadata": {},
   "source": [
    "# Data"
   ]
  },
  {
   "cell_type": "code",
   "execution_count": 17,
   "metadata": {
    "ExecuteTime": {
     "end_time": "2020-06-19T14:36:31.251993Z",
     "start_time": "2020-06-19T14:36:31.199349Z"
    }
   },
   "outputs": [],
   "source": [
    "mnist = MNIST('data', download=True, transform=Compose([ToTensor(), Lambda(lambda x: x.reshape(-1))]))"
   ]
  },
  {
   "cell_type": "code",
   "execution_count": 18,
   "metadata": {
    "ExecuteTime": {
     "end_time": "2020-06-19T14:36:31.490147Z",
     "start_time": "2020-06-19T14:36:31.456431Z"
    }
   },
   "outputs": [],
   "source": [
    "class MyTensorBoard(TensorBoard):\n",
    "    transform = ToPILImage()\n",
    "        \n",
    "    def __init__(self, n=9, latent_dim=16, every=20, path='', *args, **kwargs):\n",
    "        \n",
    "        super(MyTensorBoard, self).__init__(*args, **kwargs)\n",
    "        \n",
    "        os.makedirs(os.path.dirname(path), exist_ok=True)\n",
    "        \n",
    "        self.n = n\n",
    "        self.grid = torch.randn(n ** 2, latent_dim)\n",
    "        self.path = path\n",
    "        \n",
    "        self.batch = 0\n",
    "        self.i = 1\n",
    "        self.every = every\n",
    "        \n",
    "    def generate_image(self, net):\n",
    "        generated_grid = net.module_(self.grid).view(-1, 1, 28, 28)\n",
    "        image = make_grid(generated_grid, nrow=self.n)\n",
    "        return image\n",
    "    \n",
    "    def on_batch_end(self, net, X, y, training, **kwargs):\n",
    "        \n",
    "        if self.path and training:\n",
    "        \n",
    "            if self.batch % self.every == 0:\n",
    "                image = self.generate_image(net)\n",
    "                to_pil_image(image).save(f'{self.path}generated_{self.i:04}.jpg')\n",
    "                self.i += 1\n",
    "        \n",
    "        self.batch += 1\n",
    "    \n",
    "    def on_epoch_end(self, net, **kwargs):\n",
    "        image = self.generate_image(net)\n",
    "        epoch = net.history[-1, 'epoch']\n",
    "        self.writer.add_image('generated', image, global_step=epoch)\n",
    "        super().on_epoch_end(net, **kwargs)"
   ]
  },
  {
   "cell_type": "markdown",
   "metadata": {},
   "source": [
    "# WGAN"
   ]
  },
  {
   "cell_type": "code",
   "execution_count": 19,
   "metadata": {
    "ExecuteTime": {
     "end_time": "2020-06-19T14:36:32.917208Z",
     "start_time": "2020-06-19T14:36:32.886780Z"
    }
   },
   "outputs": [],
   "source": [
    "wgan = WassersteinGenerativeAdversarialNet(\n",
    "    module=Generator,\n",
    "    critic=Discriminator,\n",
    "    iterator_train__shuffle=True,\n",
    "    train_generator_every=5,\n",
    "    module__latent_dim=16,\n",
    "    module__hidden_dim=256,\n",
    "    module__n_layers=3,\n",
    "    critic__hidden_dim=256,\n",
    "    critic__n_layers=3,\n",
    "    optimizer=torch.optim.Adam,\n",
    "    critic_optimizer=torch.optim.Adam,\n",
    "    lr=1e-3,\n",
    "    max_epochs=200,\n",
    "    verbose=1,\n",
    "    warm_start=True,\n",
    "    callbacks=[\n",
    "        ('early_stopping', EarlyStopping(monitor='valid_distance', patience=6)),\n",
    "        ('tensorboard', MyTensorBoard(n=9, latent_dim=16, every=20, path='images2/', writer=SummaryWriter('logs/WGAN')))\n",
    "    ]\n",
    ")"
   ]
  },
  {
   "cell_type": "code",
   "execution_count": 42,
   "metadata": {
    "ExecuteTime": {
     "end_time": "2020-06-17T14:05:44.813404Z",
     "start_time": "2020-06-17T14:02:29.236428Z"
    },
    "scrolled": false
   },
   "outputs": [
    {
     "name": "stdout",
     "output_type": "stream",
     "text": [
      "     69        -0.6269           -0.0192            0.7139            \u001b[31m0.5845\u001b[0m  17.7558\n",
      "     70        -0.6263           -0.0099            0.7126            0.6778  18.3742\n",
      "     71        -0.6213           -0.0106            0.7087            0.6630  18.3801\n",
      "     72        -0.6170            0.0167            0.7079            0.7093  18.5820\n",
      "     73        -0.6156           -0.0476            0.7030            \u001b[31m0.5773\u001b[0m  19.9292\n",
      "     74        -0.5960            0.0056            \u001b[35m0.6836\u001b[0m            \u001b[31m0.5226\u001b[0m  19.3998\n",
      "     75        -0.5883            0.0470            \u001b[35m0.6759\u001b[0m            0.6171  19.9575\n",
      "     76        -0.5985            0.0452            0.6843            0.5917  20.2418\n",
      "     77        -0.5911            0.0050            \u001b[35m0.6749\u001b[0m            0.6442  19.6763\n",
      "     78        -0.5785           -0.0157            \u001b[35m0.6627\u001b[0m            0.5674  19.7303\n"
     ]
    },
    {
     "data": {
      "text/plain": [
       "<class 'bestiary.nets.wgan.WassersteinGenerativeAdversarialNet'>[initialized](\n",
       "  module_=Generator(\n",
       "    (net): Sequential(\n",
       "      (0): Linear(in_features=16, out_features=256, bias=True)\n",
       "      (1): ReLU()\n",
       "      (2): Sequential(\n",
       "        (0): Sequential(\n",
       "          (0): BatchNorm1d(256, eps=1e-05, momentum=0.1, affine=True, track_running_stats=True)\n",
       "          (1): Linear(in_features=256, out_features=256, bias=True)\n",
       "          (2): ReLU()\n",
       "        )\n",
       "        (1): Sequential(\n",
       "          (0): BatchNorm1d(256, eps=1e-05, momentum=0.1, affine=True, track_running_stats=True)\n",
       "          (1): Linear(in_features=256, out_features=256, bias=True)\n",
       "          (2): ReLU()\n",
       "        )\n",
       "        (2): Sequential(\n",
       "          (0): BatchNorm1d(256, eps=1e-05, momentum=0.1, affine=True, track_running_stats=True)\n",
       "          (1): Linear(in_features=256, out_features=256, bias=True)\n",
       "          (2): ReLU()\n",
       "        )\n",
       "      )\n",
       "      (3): Linear(in_features=256, out_features=784, bias=True)\n",
       "      (4): Sigmoid()\n",
       "    )\n",
       "  ),\n",
       ")"
      ]
     },
     "execution_count": 42,
     "metadata": {},
     "output_type": "execute_result"
    }
   ],
   "source": [
    "wgan.fit(mnist, epochs=10)"
   ]
  },
  {
   "cell_type": "code",
   "execution_count": 21,
   "metadata": {
    "ExecuteTime": {
     "end_time": "2020-06-16T18:41:39.766925Z",
     "start_time": "2020-06-16T18:41:39.617100Z"
    }
   },
   "outputs": [
    {
     "data": {
      "text/plain": [
       "<matplotlib.image.AxesImage at 0x7fc9dc8bf070>"
      ]
     },
     "execution_count": 21,
     "metadata": {},
     "output_type": "execute_result"
    },
    {
     "data": {
      "image/png": "[encoded data removed]",
      "text/plain": [
       "<Figure size 432x288 with 1 Axes>"
      ]
     },
     "metadata": {
      "needs_background": "light"
     },
     "output_type": "display_data"
    }
   ],
   "source": [
    "plt.imshow(wgan.generate(1).reshape(28, 28))"
   ]
  },
  {
   "cell_type": "markdown",
   "metadata": {},
   "source": [
    "# GAN"
   ]
  },
  {
   "cell_type": "code",
   "execution_count": 53,
   "metadata": {
    "ExecuteTime": {
     "end_time": "2020-06-16T17:15:08.194808Z",
     "start_time": "2020-06-16T17:15:08.164230Z"
    }
   },
   "outputs": [],
   "source": [
    "gan = GenerativeAdversarialNet(\n",
    "    module=Generator,\n",
    "    critic=Discriminator,\n",
    "    iterator_train__shuffle=True,\n",
    "    train_generator_every=2,\n",
    "    module__latent_dim=8,\n",
    "    module__hidden_dim=128,\n",
    "    module__n_layers=2,\n",
    "    critic__hidden_dim=128,\n",
    "    critic__n_layers=2,\n",
    "    optimizer=torch.optim.Adam,\n",
    "    critic_optimizer=torch.optim.Adam,\n",
    "    critic_optimizer__lr=1e-5,\n",
    "    lr=1e-4,\n",
    "    max_epochs=50,\n",
    "    verbose=1,\n",
    "    warm_start=True,\n",
    "    callbacks=[\n",
    "        ('tensorboard', MyTensorBoard(\n",
    "            writer=SummaryWriter(f'logs/{datetime.now().strftime(\"%Y-%m-%d-%Hh%Mm%Ss\")}'),\n",
    "            path='images_gan/',\n",
    "            latent_dim=8,\n",
    "        )),\n",
    "        ('early_stopping', EarlyStopping(monitor='valid_distance', patience=30)),\n",
    "    ]\n",
    ")"
   ]
  },
  {
   "cell_type": "code",
   "execution_count": 57,
   "metadata": {
    "ExecuteTime": {
     "end_time": "2020-06-16T17:20:41.423339Z",
     "start_time": "2020-06-16T17:16:20.625621Z"
    },
    "scrolled": false
   },
   "outputs": [
    {
     "name": "stdout",
     "output_type": "stream",
     "text": [
      "      8         0.6751           -0.0110            \u001b[35m0.0215\u001b[0m            0.1297  8.5298\n",
      "      9         0.6365           -0.0094            0.0597            0.0448  9.3608\n",
      "     10         0.6458           -0.0073            0.0505            0.0161  9.7381\n",
      "     11         \u001b[36m0.5584\u001b[0m           -0.0275            0.1384            0.0579  9.4225\n",
      "     12         0.5998           \u001b[32m-0.0447\u001b[0m            0.0977            0.1229  8.8572\n",
      "     13         0.6211           -0.0232            0.0762            0.0899  8.7454\n",
      "     14         0.6335           -0.0216            0.0633            0.0419  8.9639\n",
      "     15         0.6362           -0.0172            0.0610            0.0791  9.0628\n",
      "     16         0.6070           -0.0354            0.0899            0.1202  8.6911\n",
      "     17         \u001b[36m0.5566\u001b[0m           \u001b[32m-0.0574\u001b[0m            0.1414            0.1685  8.8680\n",
      "     18         \u001b[36m0.5299\u001b[0m           \u001b[32m-0.1146\u001b[0m            0.1689            0.2201  8.9914\n",
      "     19         0.5407           \u001b[32m-0.1174\u001b[0m            0.1598            0.1818  8.8041\n",
      "     20         \u001b[36m0.5120\u001b[0m           \u001b[32m-0.1338\u001b[0m            0.1883            0.2822  8.8661\n",
      "     21         \u001b[36m0.4664\u001b[0m           -0.1000            0.2334            0.1462  8.8549\n",
      "     22         \u001b[36m0.4202\u001b[0m           \u001b[32m-0.1613\u001b[0m            0.2797            0.1439  8.7512\n",
      "     23         \u001b[36m0.3821\u001b[0m           \u001b[32m-0.2780\u001b[0m            0.3174            0.3724  8.8860\n",
      "     24         \u001b[36m0.3113\u001b[0m           \u001b[32m-0.3359\u001b[0m            0.3877            0.3816  8.8828\n",
      "     25         0.4684           -0.2600            0.2349            0.2842  8.7916\n",
      "     26         \u001b[36m0.2917\u001b[0m           \u001b[32m-0.6052\u001b[0m            0.4065            0.5206  9.1256\n",
      "     27         0.4278           -0.2319            0.2755            0.2386  8.9090\n",
      "     28         0.3553           -0.4351            0.3453            0.4394  8.7621\n",
      "     29         0.3358           -0.3511            0.3643            0.1076  8.6806\n",
      "     30         0.4446           -0.5323            0.2601            0.4225  8.8459\n",
      "     31         0.3497           -0.3402            0.3512            0.2356  8.8326\n",
      "     32         0.4268           -0.4308            0.2751            0.3156  8.7983\n",
      "     33         0.4391           -0.3069            0.2631            0.1207  8.9182\n",
      "     34         0.5421           -0.3621            0.1633            0.3913  8.8898\n",
      "     35         0.3701           -0.3173            0.3301            0.3063  8.6547\n"
     ]
    },
    {
     "data": {
      "text/plain": [
       "<class 'bestiary.nets.wgan.GenerativeAdversarialNet'>[initialized](\n",
       "  module_=Generator(\n",
       "    (net): Sequential(\n",
       "      (0): Linear(in_features=8, out_features=128, bias=True)\n",
       "      (1): ReLU()\n",
       "      (2): Sequential(\n",
       "        (0): Sequential(\n",
       "          (0): BatchNorm1d(128, eps=1e-05, momentum=0.1, affine=True, track_running_stats=True)\n",
       "          (1): Linear(in_features=128, out_features=128, bias=True)\n",
       "          (2): ReLU()\n",
       "        )\n",
       "        (1): Sequential(\n",
       "          (0): BatchNorm1d(128, eps=1e-05, momentum=0.1, affine=True, track_running_stats=True)\n",
       "          (1): Linear(in_features=128, out_features=128, bias=True)\n",
       "          (2): ReLU()\n",
       "        )\n",
       "      )\n",
       "      (3): Linear(in_features=128, out_features=784, bias=True)\n",
       "      (4): Sigmoid()\n",
       "    )\n",
       "  ),\n",
       ")"
      ]
     },
     "execution_count": 57,
     "metadata": {},
     "output_type": "execute_result"
    }
   ],
   "source": [
    "gan.fit(mnist)"
   ]
  },
  {
   "cell_type": "code",
   "execution_count": 70,
   "metadata": {
    "ExecuteTime": {
     "end_time": "2020-06-16T17:20:50.191967Z",
     "start_time": "2020-06-16T17:20:50.067650Z"
    }
   },
   "outputs": [
    {
     "data": {
      "text/plain": [
       "<matplotlib.image.AxesImage at 0x7fa0cb30e880>"
      ]
     },
     "execution_count": 70,
     "metadata": {},
     "output_type": "execute_result"
    },
    {
     "data": {
      "image/png": "[encoded data removed]",
      "text/plain": [
       "<Figure size 432x288 with 1 Axes>"
      ]
     },
     "metadata": {
      "needs_background": "light"
     },
     "output_type": "display_data"
    }
   ],
   "source": [
    "plt.imshow(gan.generate(1).reshape(28, 28))"
   ]
  },
  {
   "cell_type": "code",
   "execution_count": 77,
   "metadata": {
    "ExecuteTime": {
     "end_time": "2020-06-15T23:50:52.518598Z",
     "start_time": "2020-06-15T23:50:52.442518Z"
    }
   },
   "outputs": [
    {
     "name": "stderr",
     "output_type": "stream",
     "text": [
      "/Users/basile/miniconda3/envs/pytorch/lib/python3.8/site-packages/torch/storage.py:34: FutureWarning: pickle support for Storage will be removed in 1.5. Use `torch.save` instead\n",
      "  warnings.warn(\"pickle support for Storage will be removed in 1.5. Use `torch.save` instead\", FutureWarning)\n"
     ]
    }
   ],
   "source": [
    "with open('wgan.pkl', 'wb') as f:\n",
    "    pickle.dump(wgan, f)"
   ]
  },
  {
   "cell_type": "code",
   "execution_count": 30,
   "metadata": {
    "ExecuteTime": {
     "end_time": "2020-06-15T22:38:07.132182Z",
     "start_time": "2020-06-15T22:38:07.107813Z"
    }
   },
   "outputs": [],
   "source": [
    "wgan.train_generator_every = 3"
   ]
  },
  {
   "cell_type": "code",
   "execution_count": 31,
   "metadata": {
    "ExecuteTime": {
     "end_time": "2020-06-15T22:40:33.225922Z",
     "start_time": "2020-06-15T22:38:07.593654Z"
    },
    "scrolled": false
   },
   "outputs": [
    {
     "name": "stdout",
     "output_type": "stream",
     "text": [
      "     31        -0.9498      1.0536            0.9889  23.7151\n",
      "     32        -0.8374      0.9349            0.8770  24.3554\n",
      "     33        -0.7812      0.8772            0.8207  23.4238\n",
      "     34        -0.7664      0.8652            0.8068  23.5074\n",
      "     35        -0.7454      0.8376            0.7841  23.2464\n",
      "     36        -0.7460      0.8278            0.7826  23.8969\n"
     ]
    },
    {
     "data": {
      "text/plain": [
       "<class 'bestiary.nets.wgan.WassersteinGenerativeAdversarialNet'>[initialized](\n",
       "  module_=Generator(\n",
       "    (net): Sequential(\n",
       "      (0): Linear(in_features=16, out_features=256, bias=True)\n",
       "      (1): ReLU()\n",
       "      (2): Sequential(\n",
       "        (0): Sequential(\n",
       "          (0): BatchNorm1d(256, eps=1e-05, momentum=0.1, affine=True, track_running_stats=True)\n",
       "          (1): Linear(in_features=256, out_features=256, bias=True)\n",
       "          (2): ReLU()\n",
       "        )\n",
       "        (1): Sequential(\n",
       "          (0): BatchNorm1d(256, eps=1e-05, momentum=0.1, affine=True, track_running_stats=True)\n",
       "          (1): Linear(in_features=256, out_features=256, bias=True)\n",
       "          (2): ReLU()\n",
       "        )\n",
       "        (2): Sequential(\n",
       "          (0): BatchNorm1d(256, eps=1e-05, momentum=0.1, affine=True, track_running_stats=True)\n",
       "          (1): Linear(in_features=256, out_features=256, bias=True)\n",
       "          (2): ReLU()\n",
       "        )\n",
       "      )\n",
       "      (3): Linear(in_features=256, out_features=784, bias=True)\n",
       "      (4): Sigmoid()\n",
       "    )\n",
       "  ),\n",
       ")"
      ]
     },
     "execution_count": 31,
     "metadata": {},
     "output_type": "execute_result"
    }
   ],
   "source": [
    "wgan.fit(mnist)"
   ]
  },
  {
   "cell_type": "code",
   "execution_count": 39,
   "metadata": {
    "ExecuteTime": {
     "end_time": "2020-06-16T12:32:52.628214Z",
     "start_time": "2020-06-16T12:32:52.498035Z"
    }
   },
   "outputs": [
    {
     "data": {
      "text/plain": [
       "<matplotlib.image.AxesImage at 0x7feb76f64cd0>"
      ]
     },
     "execution_count": 39,
     "metadata": {},
     "output_type": "execute_result"
    },
    {
     "data": {
      "image/png": "[encoded data removed]",
      "text/plain": [
       "<Figure size 432x288 with 1 Axes>"
      ]
     },
     "metadata": {
      "needs_background": "light"
     },
     "output_type": "display_data"
    }
   ],
   "source": [
    "plt.imshow(wgan.generate(1).reshape(28, 28))"
   ]
  },
  {
   "cell_type": "code",
   "execution_count": 94,
   "metadata": {
    "ExecuteTime": {
     "end_time": "2020-06-16T00:05:16.833735Z",
     "start_time": "2020-06-16T00:05:16.512792Z"
    }
   },
   "outputs": [],
   "source": [
    "wgan.save_params(\n",
    "    f_params='wgan_params.pkl',\n",
    "    f_optimizer='wgan_optimizer.pkl',\n",
    "    f_history='wgan_history.json',\n",
    ")"
   ]
  },
  {
   "cell_type": "code",
   "execution_count": 86,
   "metadata": {
    "ExecuteTime": {
     "end_time": "2020-06-16T11:56:23.166896Z",
     "start_time": "2020-06-16T11:56:23.033301Z"
    }
   },
   "outputs": [
    {
     "data": {
      "text/plain": [
       "<matplotlib.image.AxesImage at 0x7fd856ebbe50>"
      ]
     },
     "execution_count": 86,
     "metadata": {},
     "output_type": "execute_result"
    },
    {
     "data": {
      "image/png": "[encoded data removed]",
      "text/plain": [
       "<Figure size 432x288 with 1 Axes>"
      ]
     },
     "metadata": {
      "needs_background": "light"
     },
     "output_type": "display_data"
    }
   ],
   "source": [
    "plt.imshow(wgan.predict(torch.zeros((3, 16))))"
   ]
  },
  {
   "cell_type": "code",
   "execution_count": 77,
   "metadata": {
    "ExecuteTime": {
     "end_time": "2020-06-16T11:55:27.893502Z",
     "start_time": "2020-06-16T11:55:27.864196Z"
    }
   },
   "outputs": [
    {
     "data": {
      "text/plain": [
       "array([[0., 0., 0., 0., 0., 0., 0., 0., 0., 0., 0., 0., 0., 0., 0., 0.]])"
      ]
     },
     "execution_count": 77,
     "metadata": {},
     "output_type": "execute_result"
    }
   ],
   "source": [
    "np.zeros((1, 16)).astype(np.float64)"
   ]
  },
  {
   "cell_type": "code",
   "execution_count": null,
   "metadata": {},
   "outputs": [],
   "source": []
  }
 ],
 "metadata": {
  "kernelspec": {
   "display_name": "Python 3",
   "language": "python",
   "name": "python3"
  },
  "language_info": {
   "codemirror_mode": {
    "name": "ipython",
    "version": 3
   },
   "file_extension": ".py",
   "mimetype": "text/x-python",
   "name": "python",
   "nbconvert_exporter": "python",
   "pygments_lexer": "ipython3",
   "version": "3.8.3"
  },
  "toc": {
   "base_numbering": 1,
   "nav_menu": {},
   "number_sections": true,
   "sideBar": true,
   "skip_h1_title": false,
   "title_cell": "Table of Contents",
   "title_sidebar": "Contents",
   "toc_cell": false,
   "toc_position": {},
   "toc_section_display": true,
   "toc_window_display": false
  }
 },
 "nbformat": 4,
 "nbformat_minor": 4
}
